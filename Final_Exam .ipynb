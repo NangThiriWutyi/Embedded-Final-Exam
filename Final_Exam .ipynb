{
  "nbformat": 4,
  "nbformat_minor": 0,
  "metadata": {
    "colab": {
      "provenance": []
    },
    "kernelspec": {
      "name": "python3",
      "display_name": "Python 3"
    },
    "language_info": {
      "name": "python"
    }
  },
  "cells": [
    {
      "cell_type": "code",
      "source": [
        "def trc1(g):\n",
        "    def decorator(*args):\n",
        "        return g(*args)\n",
        "    return decorator\n",
        "\n",
        "@trc1\n",
        "def sqr(x):\n",
        "    print(f\"Calling {sqr} on argument {x}\")\n",
        "    return x * x\n",
        "\n",
        "@trc1\n",
        "def sum_sqr(n):\n",
        "    total = 0\n",
        "    for i in range(1, n + 1):\n",
        "        total += sqr(i)\n",
        "    print(f\"Calling {sum_sqr} on argument {n}\")\n",
        "    return total\n",
        "\n",
        "print(trc1(sqr)(3))\n",
        "print(trc1(sum_sqr)(3))\n"
      ],
      "metadata": {
        "colab": {
          "base_uri": "https://localhost:8080/"
        },
        "id": "XX9vIvNL5wwE",
        "outputId": "6af4f24e-4cd6-4910-de9f-7b643eb0dd18"
      },
      "execution_count": 20,
      "outputs": [
        {
          "output_type": "stream",
          "name": "stdout",
          "text": [
            "Calling <function trc1.<locals>.decorator at 0x7eddb9df3910> on argument 3\n",
            "9\n",
            "Calling <function trc1.<locals>.decorator at 0x7eddb9df3910> on argument 1\n",
            "Calling <function trc1.<locals>.decorator at 0x7eddb9df3910> on argument 2\n",
            "Calling <function trc1.<locals>.decorator at 0x7eddb9df3910> on argument 3\n",
            "Calling <function trc1.<locals>.decorator at 0x7eddb8179240> on argument 3\n",
            "14\n"
          ]
        }
      ]
    },
    {
      "cell_type": "code",
      "source": [
        "def verify_add(m, ls):\n",
        "    seen = set()\n",
        "    for num in ls:\n",
        "        complement = m - num\n",
        "        if complement in seen:\n",
        "            return True\n",
        "        seen.add(num)\n",
        "    return False\n",
        "\n",
        "# Example usage:\n",
        "print(verify_add(100, [1, 2, 3, 4, 5]))  # False\n",
        "print(verify_add(7, [1, 2, 3, 4, 2]))    # True\n",
        "print(verify_add(10, [5, 5]))             # False\n",
        "print(verify_add(151, range(0, 200000, 3)))  # False\n",
        "print(verify_add(50004, range(0, 200000, 4)))  # True\n"
      ],
      "metadata": {
        "id": "xJUXR35mvdCN"
      },
      "execution_count": null,
      "outputs": []
    },
    {
      "cell_type": "code",
      "source": [
        "def deep_rvrs(tup):\n",
        "    if isinstance(tup, tuple):\n",
        "        return tuple(deep_rvrs(item) for item in reversed(tup))\n",
        "    else:\n",
        "        return tup\n",
        "\n",
        "# Test cases\n",
        "a = (11, 12, 13, 14)\n",
        "print(deep_rvrs(a))  # Output: (14, 13, 12, 11)\n",
        "\n",
        "tpl = (11, (12, (13,113), 14), 15)\n",
        "print(deep_rvrs(tpl))  # Output: (15, (14, (113, 13), 12), 11)\n"
      ],
      "metadata": {
        "id": "_VTBD4R3v63u"
      },
      "execution_count": null,
      "outputs": []
    },
    {
      "cell_type": "code",
      "source": [
        "class Fibonacci:\n",
        "    def __init__(self):\n",
        "        self.val = 0\n",
        "        self.prev_val = 0\n",
        "\n",
        "    def nxt(self):\n",
        "        next_fib = Fibonacci()\n",
        "        if self.val == 0:\n",
        "            next_fib.val = 1\n",
        "        else:\n",
        "            next_fib.val = self.val + self.prev_val\n",
        "        next_fib.prev_val = self.val\n",
        "        return next_fib\n",
        "\n",
        "    def __repr__(self):\n",
        "        return str(self.val)\n",
        "\n",
        "# Example usage:\n",
        "a = Fibonacci()\n",
        "print(a)               # Output: 0\n",
        "print(a.nxt())         # Output: 1\n",
        "print(a.nxt().nxt())   # Output: 1\n",
        "print(a.nxt().nxt().nxt())  # Output: 2\n",
        "print(a.nxt().nxt().nxt().nxt())  # Output: 3\n",
        "print(a.nxt().nxt().nxt().nxt().nxt())  # Output: 5\n",
        "print(a.nxt().nxt().nxt().nxt().nxt().nxt())  # Output: 8\n"
      ],
      "metadata": {
        "id": "6pB-Tn3vxcqE"
      },
      "execution_count": null,
      "outputs": []
    },
    {
      "cell_type": "code",
      "source": [
        "class Student:\n",
        "    def __init__(self, name, number_of_courses):\n",
        "        self.name = name\n",
        "        self.number_of_courses = number_of_courses\n",
        "\n",
        "    def __add__(self, other):\n",
        "        if isinstance(other, Student):\n",
        "            return Student('Combined', self.number_of_courses + other.number_of_courses)\n",
        "        else:\n",
        "            raise TypeError(\"Unsupported operand type(s) for +: 'Student' and '{}'\".format(type(other)))\n",
        "\n",
        "    def __str__(self):\n",
        "        return f\"Student {self.name} is taking {self.number_of_courses} course(s)\"\n",
        "\n",
        "    def __repr__(self):\n",
        "        return f\"Student('{self.name}', {self.number_of_courses})\"\n",
        "\n",
        "    def __lt__(self, other):\n",
        "        return self.number_of_courses < other.number_of_courses\n",
        "\n",
        "    def __eq__(self, other):\n",
        "        return self.number_of_courses == other.number_of_courses\n",
        "\n",
        "    def __ne__(self, other):\n",
        "        return self.number_of_courses != other.number_of_courses\n",
        "\n",
        "    def __gt__(self, other):\n",
        "        return self.number_of_courses > other.number_of_courses\n",
        "\n",
        "# Example usage:\n",
        "a = Student('Peter', 3)\n",
        "b = Student('Mike', 4)\n",
        "c = Student('John', 5)\n",
        "d = Student('Kelvin', 3)\n",
        "\n",
        "print(a + b + d)  # Output: Student Combined is taking 10 course(s)\n",
        "print(a != d)     # Output: False\n",
        "print(b < c)      # Output: True\n"
      ],
      "metadata": {
        "colab": {
          "base_uri": "https://localhost:8080/"
        },
        "id": "hJagFweGyfuh",
        "outputId": "c3e2a48f-7c1b-4550-81b5-f42faa43d17b"
      },
      "execution_count": 16,
      "outputs": [
        {
          "output_type": "stream",
          "name": "stdout",
          "text": [
            "Student Combined is taking 10 course(s)\n",
            "False\n",
            "True\n"
          ]
        }
      ]
    }
  ]
}